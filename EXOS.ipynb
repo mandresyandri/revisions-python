{
 "cells": [
  {
   "cell_type": "markdown",
   "id": "dca30fe0-3dfe-428f-bc40-945cbb69aea9",
   "metadata": {},
   "source": [
    "# Notebook exos\n",
    "---"
   ]
  },
  {
   "cell_type": "markdown",
   "id": "862da052-d667-4b22-8f9a-0541701f1f6a",
   "metadata": {},
   "source": [
    "## Série 1"
   ]
  },
  {
   "cell_type": "markdown",
   "id": "21248a62-bcf4-4788-9fd8-864437e4942d",
   "metadata": {},
   "source": [
    "### Exercice 1\n",
    "Ecrire, compiler et visualiser le résultat de ce programme\n",
    "```python\n",
    "  a=input(\"Saisir une valeur \") \n",
    "  b=a+1 \n",
    "  print(b)\n",
    "```\n",
    "Interpréter/ corriger le résultat."
   ]
  },
  {
   "cell_type": "code",
   "execution_count": 2,
   "id": "bee1f88f-dbbf-4c79-9c28-102dd5aa1231",
   "metadata": {},
   "outputs": [
    {
     "name": "stdin",
     "output_type": "stream",
     "text": [
      "Saisir une valeur  3\n"
     ]
    },
    {
     "name": "stdout",
     "output_type": "stream",
     "text": [
      "4\n"
     ]
    }
   ],
   "source": [
    "# Correction > conversion de valeur\n",
    "a=int(input(\"Saisir une valeur \"))\n",
    "b=a+1 \n",
    "print(b)"
   ]
  },
  {
   "cell_type": "markdown",
   "id": "d5dc942e-d049-43a9-b8d0-74fc82657b6e",
   "metadata": {},
   "source": [
    "### Exercice 2\n",
    "\n",
    "Ecrire un programme qui prend ==l’âge== et la taille de l’utilisateur et les affiches dans un message par exemple :\n",
    "Vous avez 21 ans et vous mesurez 1.81 m."
   ]
  },
  {
   "cell_type": "code",
   "execution_count": 4,
   "id": "e51bbe40-777d-4b22-adf7-f5ef09df5dbe",
   "metadata": {},
   "outputs": [
    {
     "name": "stdin",
     "output_type": "stream",
     "text": [
      "Saisissez votre âge : 24\n",
      "Saisissez votre taille : 1.10\n"
     ]
    },
    {
     "name": "stdout",
     "output_type": "stream",
     "text": [
      "---------------\n",
      "Vous avez 24 ans et vous mesurez 1.1 m.\n"
     ]
    }
   ],
   "source": [
    "age = int(input(\"Saisissez votre âge :\"))\n",
    "taille = float(input(\"Saisissez votre taille :\"))\n",
    "print(\"---\" * 5)\n",
    "print(f\"Vous avez {age} ans et vous mesurez {taille} m.\")"
   ]
  },
  {
   "cell_type": "markdown",
   "id": "e94a0ed8-9e3b-4232-b757-0777b5e3301a",
   "metadata": {},
   "source": [
    "### Exercice 3\n",
    "\n",
    "Ecrire un programme qui demande à l’utilisateur de saisir une distance (en kilomètre) et le temps (minute) nécessaire pour la parcourir ; votre programme doit calculer la vitesse (en mètre par seconde). Pour rappelle la vitesse= distance/temps"
   ]
  },
  {
   "cell_type": "code",
   "execution_count": 5,
   "id": "1b8ff3d1-4ac2-452b-b1c9-c4640198b112",
   "metadata": {},
   "outputs": [
    {
     "name": "stdin",
     "output_type": "stream",
     "text": [
      "Saisissez la distance (en KM) 6\n",
      "Saisissez le temps (en m) 30\n"
     ]
    },
    {
     "name": "stdout",
     "output_type": "stream",
     "text": [
      "---------------\n",
      "Votre vitesse est de 0.2\n"
     ]
    }
   ],
   "source": [
    "distance = float(input(\"Saisissez la distance (en KM)\"))\n",
    "temps = int(input(\"Saisissez le temps (en m)\"))\n",
    "print(\"---\" * 5)\n",
    "print(f\"Votre vitesse est de {distance/temps}\")"
   ]
  },
  {
   "cell_type": "markdown",
   "id": "51c86acc-d2a5-4ed3-b6e9-4bcfa114b50c",
   "metadata": {},
   "source": [
    "### Exercice 4\n",
    "\n",
    "Ecrire un programme au quel on fournit un nombre de seconde et on le convertir en heure minute et seconde par exemple : 4510 secondes= 1h 15 min 10 sec"
   ]
  },
  {
   "cell_type": "code",
   "execution_count": 30,
   "id": "d1f7abd8-4340-4f58-8d4c-ff5e76112d01",
   "metadata": {},
   "outputs": [
    {
     "name": "stdout",
     "output_type": "stream",
     "text": [
      "1h 15 min 10 sec\n"
     ]
    }
   ],
   "source": [
    "seconds = 4510\n",
    "hours = round((seconds / 60) // 60)\n",
    "minutes = round((seconds / 60) % 60)\n",
    "seconds = seconds % 60\n",
    "print(f\"{hours}h {minutes} min {seconds} sec\")"
   ]
  },
  {
   "cell_type": "markdown",
   "id": "71e8890b-c787-495e-a695-208d6d41e586",
   "metadata": {},
   "source": [
    "### Exercice 5\n",
    "\n",
    "Ecrire un programme qui qui affiche en fonction d’une valeur saisie l’un des messages suivants :\n",
    "\n",
    "    - Ce nombre est pair\n",
    "    - Ce nombre est impair, mais est multiple de 3\n",
    "    - Ce nombre n’est ni pair ni multiple de 3"
   ]
  },
  {
   "cell_type": "code",
   "execution_count": 43,
   "id": "95403755-66ef-4b9a-8c48-89eb69efbb26",
   "metadata": {},
   "outputs": [
    {
     "name": "stdin",
     "output_type": "stream",
     "text": [
      "Saisissez un nombre : 12\n"
     ]
    },
    {
     "name": "stdout",
     "output_type": "stream",
     "text": [
      "Ce nombre est pair et est multiple de 3\n"
     ]
    }
   ],
   "source": [
    "insert = int(input(\"Saisissez un nombre :\"))\n",
    "# Ajout condition pair et est multiple de 3\n",
    "if ((insert % 2) == 0) & ((insert % 3) == 0):\n",
    "    print(\"Ce nombre est pair et est multiple de 3\")\n",
    "elif (insert % 2) == 0:\n",
    "    print(\"Ce nombre est pair\")\n",
    "elif (insert % 3) == 0:\n",
    "    print(\"Ce nombre est impair, mais est multiple de 3\")\n",
    "else:\n",
    "    print(\"Ce nombre n’est ni pair ni multiple de 3\")"
   ]
  },
  {
   "cell_type": "markdown",
   "id": "afe33d19-4884-4183-8dc4-ba7fcaf9d767",
   "metadata": {},
   "source": [
    "### Exercice 6\n",
    "\n",
    "Ecrire un programme qui demande deux nombres à l’utilisateur et l’informe ensuite si leur produit est négatif ou positif. Attention toutefois : on ne doit pas calculer le produit des deux nombres."
   ]
  },
  {
   "cell_type": "code",
   "execution_count": null,
   "id": "08d6faed-748b-4844-a0ea-d8f7a3479f17",
   "metadata": {},
   "outputs": [],
   "source": []
  }
 ],
 "metadata": {
  "kernelspec": {
   "display_name": "Python 3 (ipykernel)",
   "language": "python",
   "name": "python3"
  },
  "language_info": {
   "codemirror_mode": {
    "name": "ipython",
    "version": 3
   },
   "file_extension": ".py",
   "mimetype": "text/x-python",
   "name": "python",
   "nbconvert_exporter": "python",
   "pygments_lexer": "ipython3",
   "version": "3.12.1"
  }
 },
 "nbformat": 4,
 "nbformat_minor": 5
}
