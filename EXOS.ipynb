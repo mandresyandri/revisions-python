{
  "cells": [
    {
      "cell_type": "markdown",
      "metadata": {
        "id": "view-in-github",
        "colab_type": "text"
      },
      "source": [
        "<a href=\"https://colab.research.google.com/github/mandresyandri/revisions-python/blob/main/EXOS.ipynb\" target=\"_parent\"><img src=\"https://colab.research.google.com/assets/colab-badge.svg\" alt=\"Open In Colab\"/></a>"
      ]
    },
    {
      "cell_type": "markdown",
      "id": "dca30fe0-3dfe-428f-bc40-945cbb69aea9",
      "metadata": {
        "id": "dca30fe0-3dfe-428f-bc40-945cbb69aea9"
      },
      "source": [
        "# Notebook exos\n",
        "---"
      ]
    },
    {
      "cell_type": "markdown",
      "id": "862da052-d667-4b22-8f9a-0541701f1f6a",
      "metadata": {
        "id": "862da052-d667-4b22-8f9a-0541701f1f6a"
      },
      "source": [
        "## Série 1"
      ]
    },
    {
      "cell_type": "markdown",
      "id": "21248a62-bcf4-4788-9fd8-864437e4942d",
      "metadata": {
        "id": "21248a62-bcf4-4788-9fd8-864437e4942d"
      },
      "source": [
        "### Exercice 1\n",
        "Ecrire, compiler et visualiser le résultat de ce programme\n",
        "```python\n",
        "  a=input(\"Saisir une valeur \")\n",
        "  b=a+1\n",
        "  print(b)\n",
        "```\n",
        "Interpréter/ corriger le résultat."
      ]
    },
    {
      "cell_type": "code",
      "execution_count": null,
      "id": "bee1f88f-dbbf-4c79-9c28-102dd5aa1231",
      "metadata": {
        "colab": {
          "base_uri": "https://localhost:8080/"
        },
        "id": "bee1f88f-dbbf-4c79-9c28-102dd5aa1231",
        "outputId": "c659272b-e232-4d04-f87e-147ccdd77d09"
      },
      "outputs": [
        {
          "output_type": "stream",
          "name": "stdout",
          "text": [
            "Saisir une valeur 7\n",
            "8\n"
          ]
        }
      ],
      "source": [
        "# Correction > conversion de valeur\n",
        "a=int(input(\"Saisir une valeur \"))\n",
        "b=a+1\n",
        "print(b)"
      ]
    },
    {
      "cell_type": "markdown",
      "id": "d5dc942e-d049-43a9-b8d0-74fc82657b6e",
      "metadata": {
        "id": "d5dc942e-d049-43a9-b8d0-74fc82657b6e"
      },
      "source": [
        "### Exercice 2\n",
        "\n",
        "Ecrire un programme qui prend ==l’âge== et la taille de l’utilisateur et les affiches dans un message par exemple :\n",
        "Vous avez 21 ans et vous mesurez 1.81 m."
      ]
    },
    {
      "cell_type": "code",
      "execution_count": null,
      "id": "e51bbe40-777d-4b22-adf7-f5ef09df5dbe",
      "metadata": {
        "colab": {
          "base_uri": "https://localhost:8080/"
        },
        "id": "e51bbe40-777d-4b22-adf7-f5ef09df5dbe",
        "outputId": "fc2f3a87-d4d1-4fb7-c70d-b4960a5c2e7d"
      },
      "outputs": [
        {
          "output_type": "stream",
          "name": "stdout",
          "text": [
            "Saisissez votre âge :21\n",
            "Saisissez votre taille :1.7\n",
            "---------------\n",
            "Vous avez 21 ans et vous mesurez 1.7 m.\n"
          ]
        }
      ],
      "source": [
        "age = int(input(\"Saisissez votre âge :\"))\n",
        "taille = float(input(\"Saisissez votre taille :\"))\n",
        "print(\"---\" * 5)\n",
        "print(f\"Vous avez {age} ans et vous mesurez {taille} m.\")"
      ]
    },
    {
      "cell_type": "markdown",
      "id": "e94a0ed8-9e3b-4232-b757-0777b5e3301a",
      "metadata": {
        "id": "e94a0ed8-9e3b-4232-b757-0777b5e3301a"
      },
      "source": [
        "### Exercice 3\n",
        "\n",
        "Ecrire un programme qui demande à l’utilisateur de saisir une distance (en kilomètre) et le temps (minute) nécessaire pour la parcourir ; votre programme doit calculer la vitesse (en mètre par seconde). Pour rappelle la vitesse= distance/temps"
      ]
    },
    {
      "cell_type": "code",
      "execution_count": null,
      "id": "1b8ff3d1-4ac2-452b-b1c9-c4640198b112",
      "metadata": {
        "colab": {
          "base_uri": "https://localhost:8080/"
        },
        "id": "1b8ff3d1-4ac2-452b-b1c9-c4640198b112",
        "outputId": "c4f37204-eecb-4beb-a6fb-4475b0d4d6e1"
      },
      "outputs": [
        {
          "output_type": "stream",
          "name": "stdout",
          "text": [
            "Saisissez la distance (en KM)10\n",
            "Saisissez le temps (en m)1\n",
            "---------------\n",
            "Votre vitesse est de 10.0\n"
          ]
        }
      ],
      "source": [
        "distance = float(input(\"Saisissez la distance (en KM)\"))\n",
        "temps = int(input(\"Saisissez le temps (en m)\"))\n",
        "print(\"---\" * 5)\n",
        "print(f\"Votre vitesse est de {distance/temps}\")"
      ]
    },
    {
      "cell_type": "markdown",
      "id": "51c86acc-d2a5-4ed3-b6e9-4bcfa114b50c",
      "metadata": {
        "id": "51c86acc-d2a5-4ed3-b6e9-4bcfa114b50c"
      },
      "source": [
        "### Exercice 4\n",
        "\n",
        "Ecrire un programme au quel on fournit un nombre de seconde et on le convertir en heure minute et seconde par exemple : 4510 secondes= 1h 15 min 10 sec"
      ]
    },
    {
      "cell_type": "code",
      "execution_count": null,
      "id": "d1f7abd8-4340-4f58-8d4c-ff5e76112d01",
      "metadata": {
        "colab": {
          "base_uri": "https://localhost:8080/"
        },
        "id": "d1f7abd8-4340-4f58-8d4c-ff5e76112d01",
        "outputId": "c6fa9c0a-c849-48d6-8704-774fb49ed379"
      },
      "outputs": [
        {
          "output_type": "stream",
          "name": "stdout",
          "text": [
            "1h 15 min 10 sec\n"
          ]
        }
      ],
      "source": [
        "seconds = 4510\n",
        "hours = round((seconds / 60) // 60)\n",
        "minutes = round((seconds / 60) % 60)\n",
        "seconds = seconds % 60\n",
        "print(f\"{hours}h {minutes} min {seconds} sec\")"
      ]
    },
    {
      "cell_type": "markdown",
      "id": "71e8890b-c787-495e-a695-208d6d41e586",
      "metadata": {
        "id": "71e8890b-c787-495e-a695-208d6d41e586"
      },
      "source": [
        "### Exercice 5\n",
        "\n",
        "Ecrire un programme qui qui affiche en fonction d’une valeur saisie l’un des messages suivants :\n",
        "\n",
        "    - Ce nombre est pair\n",
        "    - Ce nombre est impair, mais est multiple de 3\n",
        "    - Ce nombre n’est ni pair ni multiple de 3"
      ]
    },
    {
      "cell_type": "code",
      "execution_count": null,
      "id": "95403755-66ef-4b9a-8c48-89eb69efbb26",
      "metadata": {
        "colab": {
          "base_uri": "https://localhost:8080/"
        },
        "id": "95403755-66ef-4b9a-8c48-89eb69efbb26",
        "outputId": "2ddf0359-622f-4908-94c9-655d956cd2c5"
      },
      "outputs": [
        {
          "output_type": "stream",
          "name": "stdout",
          "text": [
            "Saisissez un nombre :9\n",
            "Ce nombre est impair, mais est multiple de 3\n"
          ]
        }
      ],
      "source": [
        "insert = int(input(\"Saisissez un nombre :\"))\n",
        "# Ajout condition pair et est multiple de 3\n",
        "if ((insert % 2) == 0) & ((insert % 3) == 0):\n",
        "    print(\"Ce nombre est pair et est multiple de 3\")\n",
        "elif (insert % 2) == 0:\n",
        "    print(\"Ce nombre est pair\")\n",
        "elif (insert % 3) == 0:\n",
        "    print(\"Ce nombre est impair, mais est multiple de 3\")\n",
        "else:\n",
        "    print(\"Ce nombre n’est ni pair ni multiple de 3\")"
      ]
    },
    {
      "cell_type": "markdown",
      "id": "afe33d19-4884-4183-8dc4-ba7fcaf9d767",
      "metadata": {
        "id": "afe33d19-4884-4183-8dc4-ba7fcaf9d767"
      },
      "source": [
        "### Exercice 6\n",
        "\n",
        "Ecrire un programme qui demande deux nombres à l’utilisateur et l’informe ensuite si leur produit est négatif ou positif. Attention toutefois : on ne doit pas calculer le produit des deux nombres."
      ]
    },
    {
      "cell_type": "code",
      "execution_count": null,
      "id": "08d6faed-748b-4844-a0ea-d8f7a3479f17",
      "metadata": {
        "colab": {
          "base_uri": "https://localhost:8080/"
        },
        "id": "08d6faed-748b-4844-a0ea-d8f7a3479f17",
        "outputId": "e7839828-43bb-4f90-fcc4-750c8e9c4ddd"
      },
      "outputs": [
        {
          "output_type": "stream",
          "name": "stdout",
          "text": [
            "Insérez un nombre10\n",
            "Insérez un second nombre-19\n",
            "Le produit des deux nombres est négatif\n"
          ]
        }
      ],
      "source": [
        "nb1 = int(input(\"Insérez un nombre\"))\n",
        "nb2 = int(input(\"Insérez un second nombre\"))\n",
        "result = nb1 * nb2\n",
        "if result < 0:\n",
        "    print(\"Le produit des deux nombres est négatif\")\n",
        "else:\n",
        "    print(f\"Le produit des deux nombres est positif : {result}\")"
      ]
    },
    {
      "cell_type": "markdown",
      "id": "fa8ebd71-1121-4067-891a-c15af1b7ab2a",
      "metadata": {
        "id": "fa8ebd71-1121-4067-891a-c15af1b7ab2a"
      },
      "source": [
        "### Exercice 7\n",
        "Ecrire un programme qui permet à l’utilisateur de saisir deux nombre ainsi qu’une opération soi + pour l’addition, - pour la soustraction, * pour la multiplication, ou / pour la division. Le programme doit retourner le résultat adéquat à l’opération choisi"
      ]
    },
    {
      "cell_type": "code",
      "execution_count": null,
      "id": "50fc8fc8-6cc6-4280-8434-ec8429b2c202",
      "metadata": {
        "colab": {
          "base_uri": "https://localhost:8080/"
        },
        "id": "50fc8fc8-6cc6-4280-8434-ec8429b2c202",
        "outputId": "3559432c-a880-427e-c005-ea10536afd4d"
      },
      "outputs": [
        {
          "output_type": "stream",
          "name": "stdout",
          "text": [
            "Saisissez un premier nombre/chiffre :10\n",
            "Saisissez un second nombre/chiffre :10\n",
            "Saisissez un opérateur :/\n",
            "Résultat de l'opération : 1.0\n"
          ]
        }
      ],
      "source": [
        "nb1 = int(input(\"Saisissez un premier nombre/chiffre :\"))\n",
        "nb2 = int(input(\"Saisissez un second nombre/chiffre :\"))\n",
        "operator = input(\"Saisissez un opérateur :\")\n",
        "\n",
        "if operator == \"+\":\n",
        "    result = nb1 + nb2\n",
        "elif operator == \"-\":\n",
        "    result = nb1 - nb2\n",
        "elif operator == \"*\":\n",
        "    result = nb1 * nb2\n",
        "elif operator == \"/\":\n",
        "    result = nb1 / nb2\n",
        "\n",
        "print(f\"Résultat de l'opération : {result}\")"
      ]
    },
    {
      "cell_type": "markdown",
      "id": "dd83b57d-d3d0-48f6-ad43-ec60c5457fb2",
      "metadata": {
        "id": "dd83b57d-d3d0-48f6-ad43-ec60c5457fb2"
      },
      "source": [
        "### Exercice 8\n",
        "Ecrire un programme qui permet de saisir 4 notes au clavier, ainsi que leurs coefficients respectives, et affiche la moyenne de ces notes:\n",
        "\n",
        "- note 1 : 12\n",
        "- coefficient : 2\n",
        "- note 2 : 15.25\n",
        "- coefficient : 1\n",
        "- note 3 : 13.5\n",
        "- coefficient : 4\n",
        "- note 4 : 8.75\n",
        "- coefficient : 3\n",
        "- moyenne de ces 4 notes : 11.95, semestre validé\n",
        "\n",
        "Votre programme doit afficher aussi si le semestre est validé (la note >=10), rattrapage (10>note>=7) ou non validé (note<7)"
      ]
    },
    {
      "cell_type": "code",
      "execution_count": 19,
      "id": "1b938ebb-03d0-4093-87ec-14df1b8f551a",
      "metadata": {
        "id": "1b938ebb-03d0-4093-87ec-14df1b8f551a",
        "colab": {
          "base_uri": "https://localhost:8080/"
        },
        "outputId": "4bf8dce4-2b63-453e-c736-c7233f3a0be1"
      },
      "outputs": [
        {
          "output_type": "stream",
          "name": "stdout",
          "text": [
            "Moyenne de ces 4 notes : 11.95, semestre validé\n"
          ]
        }
      ],
      "source": [
        "notes_elem = list()\n",
        "coefs_elem = list()\n",
        "\n",
        "# Parametrage par défaut > éviter de tout saisir au début\n",
        "notes_elem = [12, 15.25, 13.5, 8.75]\n",
        "coefs_elem = [2, 1, 4, 3]\n",
        "\n",
        "# Boucle saisie de note\n",
        "while (len(notes_elem)  < 4) and (len(coefs_elem) < 4):\n",
        "    notes_elem.append(float(input(\"Insérez une note :\\n\")))\n",
        "    coefs_elem.append(int(input(\"Insérez le coefficient correspondant :\\n\")))\n",
        "\n",
        "# Calcul de la moyenne\n",
        "result = []\n",
        "for i in range(4):\n",
        "    result.append(notes_elem[i] * coefs_elem[i])\n",
        "\n",
        "moyenne = sum(result) / sum(coefs_elem)\n",
        "if moyenne >= 10:\n",
        "    print(f\"Moyenne de ces 4 notes : {moyenne}, semestre validé\")\n",
        "elif moyenne >= 7:\n",
        "    print(f\"Moyenne de ces 4 notes : {moyenne}, rattrapage\")\n",
        "else:\n",
        "    print(f\"Moyenne de ces 4 notes : {moyenne}, non validé\")"
      ]
    },
    {
      "cell_type": "markdown",
      "source": [
        "### Exercice 9\n",
        "Ecrire un programme qui permet de saisir le nom, le prix et la quantité des articles qui constitue une facture.\n",
        "(Le nombre d’article est fixé à 2).\n",
        "Le programme doit calculer le totale de la facture. N’oublier pas d’ajouter la TVA pour chaque article (20%) (MontantTTC=MontantHT + Montant HT*0.2). Votre programme doit afficher le montant totale de chaque article ainsi que le totale."
      ],
      "metadata": {
        "id": "WjctfBlEdfs_"
      },
      "id": "WjctfBlEdfs_"
    },
    {
      "cell_type": "code",
      "source": [
        "nom = list()\n",
        "quantite = list()\n",
        "prix = list()\n",
        "\n",
        "nom = [\"PC\", \"Tablette\"]\n",
        "quantite = [2, 5]\n",
        "prix = [1200, 500]\n",
        "\n",
        "while (len(nom) < 2) and (len(quantite) < 2) and (len(prix) < 2):\n",
        "    nom.append(input(\"Insérez le nom de l'article :\\n\"))\n",
        "    quantite.append(int(input(\"Insérez la quantité de l'article :\\n\")))\n",
        "    prix.append(float(input(\"Insérez le prix de l'article :\\n\")))\n",
        "\n",
        "produit1 = quantite[0] * prix[0]\n",
        "produit2 = quantite[1] * prix[1]\n",
        "total_ttc = (produit1 + produit2) * 0.2\n",
        "print(\"---\" * 5)\n",
        "print(f\"Total pour l'article {nom[0]} : {produit1}\")\n",
        "print(f\"Total pour l'article {nom[1]} : {produit2}\")\n",
        "print(f\"Le total de votre facture est : {total_ttc}\")"
      ],
      "metadata": {
        "colab": {
          "base_uri": "https://localhost:8080/"
        },
        "id": "5qa0SoTGdeje",
        "outputId": "f361cf56-94d5-49eb-a22c-de83c9a274d6"
      },
      "id": "5qa0SoTGdeje",
      "execution_count": 23,
      "outputs": [
        {
          "output_type": "stream",
          "name": "stdout",
          "text": [
            "---------------\n",
            "Total pour l'article PC : 2400\n",
            "Total pour l'article Tablette : 2500\n",
            "Le total de votre facture est : 980.0\n"
          ]
        }
      ]
    },
    {
      "cell_type": "markdown",
      "source": [
        "### Exercice 10\n",
        "Ecrire un programme qui demande à l’utilisateur de saisir un login et un mot de passe (deux chaines de caractères). Le programme doit tester si les deux chaines sont égales à « admin » « admin » si c’est le cas on affiche un message de bienvenue sinon on affiche un message à l’utilisateur lui informant que le login et le mot de passe saisie sont incorrecte."
      ],
      "metadata": {
        "id": "A0EzXk-ifoS3"
      },
      "id": "A0EzXk-ifoS3"
    },
    {
      "cell_type": "code",
      "source": [
        "login = input(\"Login : \\n\")\n",
        "mdp = input(\"Mot de passe : \\n\")\n",
        "\n",
        "if (login == \"admin\") and (mdp == \"admin\"):\n",
        "    print(\"Bienvenu !\")\n",
        "else:\n",
        "    print(\"Login ou mot de passe est incorrecte.\")"
      ],
      "metadata": {
        "colab": {
          "base_uri": "https://localhost:8080/"
        },
        "id": "lgaqhlC4fpDZ",
        "outputId": "4d7c6e18-52cd-4b6a-a050-2dfb6c2d6f3b"
      },
      "id": "lgaqhlC4fpDZ",
      "execution_count": 24,
      "outputs": [
        {
          "output_type": "stream",
          "name": "stdout",
          "text": [
            "Login : \n",
            "admin\n",
            "Mot de passe : \n",
            "admin\n",
            "Bienvenu !\n"
          ]
        }
      ]
    },
    {
      "cell_type": "markdown",
      "source": [
        "# Exercice 11\n",
        "Créer un programme qui calcule l’indice de masse corporelle (IMC) avec IMC=Pois/taille2 Afficher un message qui contient l’interprétation du résultat"
      ],
      "metadata": {
        "id": "2VR1IR5Wgec1"
      },
      "id": "2VR1IR5Wgec1"
    },
    {
      "cell_type": "code",
      "source": [
        "poids = 600\n",
        "taille = 1.75\n",
        "imc = poids / (taille ** 2)\n",
        "\n",
        "if imc > 40:\n",
        "    print(\"obésité morbide ou massive\")\n",
        "elif imc > 35:\n",
        "    print(\"obésité sévère\")\n",
        "elif imc > 30:\n",
        "    print(\"obésité modérée\")\n",
        "elif imc > 25:\n",
        "    print(\"Surpoids\")\n",
        "elif 18.5 <= imc <= 25:\n",
        "    print(\"corpulence normale\")\n",
        "elif 16.5 < imc < 18.5:\n",
        "    print(\"Maigreur\")\n",
        "else:\n",
        "    print(\"Famine\")"
      ],
      "metadata": {
        "colab": {
          "base_uri": "https://localhost:8080/"
        },
        "id": "cvPLcRxAge-J",
        "outputId": "ae47262f-4199-4892-f52b-864c99a788f5"
      },
      "id": "cvPLcRxAge-J",
      "execution_count": 40,
      "outputs": [
        {
          "output_type": "stream",
          "name": "stdout",
          "text": [
            "obésité morbide ou massive\n"
          ]
        }
      ]
    },
    {
      "cell_type": "markdown",
      "source": [
        "### Exercice 12\n",
        "Ecrire un programme qui calcule le salaire des employées d’une société. L’utilisateur doit saisir le grade et le nombre d’heure qu’a travaillé l’employé le payement se fait à base de la grille tarifaire suivante"
      ],
      "metadata": {
        "id": "QUfZmnO6jAlr"
      },
      "id": "QUfZmnO6jAlr"
    },
    {
      "cell_type": "code",
      "source": [],
      "metadata": {
        "id": "ORszF8tajA-h"
      },
      "id": "ORszF8tajA-h",
      "execution_count": null,
      "outputs": []
    },
    {
      "cell_type": "markdown",
      "id": "d0f9030f-6ff4-4bfb-96d4-1a841774dfa0",
      "metadata": {
        "id": "d0f9030f-6ff4-4bfb-96d4-1a841774dfa0"
      },
      "source": [
        "## Série N2"
      ]
    },
    {
      "cell_type": "markdown",
      "id": "510c0d2c-560b-4418-a454-ae24ccecf9f7",
      "metadata": {
        "id": "510c0d2c-560b-4418-a454-ae24ccecf9f7"
      },
      "source": [
        "### Exercice 7\n",
        "Ecrire un programme qui supprime tous les redoublants d’une liste L sans ajouter des listes supplémentaires.<br/>\n",
        "**L=[1,2,5,8,6,2,5,9,1,8,8]** devient **[1, 2, 5, 8, 6, 9]**"
      ]
    },
    {
      "cell_type": "code",
      "execution_count": null,
      "id": "3671f1b8-e64e-4632-808c-d81c86c575b1",
      "metadata": {
        "colab": {
          "base_uri": "https://localhost:8080/"
        },
        "id": "3671f1b8-e64e-4632-808c-d81c86c575b1",
        "outputId": "6e3bf1ae-07c1-4718-db9b-e738c5e8886e"
      },
      "outputs": [
        {
          "output_type": "stream",
          "name": "stdout",
          "text": [
            "[1, 2, 5, 6, 8, 9]\n"
          ]
        }
      ],
      "source": [
        "# approche built-in function\n",
        "l = [1,2,5,8,6,2,5,9,1,8,8]\n",
        "l_unique = list(set(l))\n",
        "print(l_unique)"
      ]
    },
    {
      "cell_type": "code",
      "execution_count": null,
      "id": "b6c53604-56f3-4d26-8b93-4068dfd5cc21",
      "metadata": {
        "colab": {
          "base_uri": "https://localhost:8080/"
        },
        "id": "b6c53604-56f3-4d26-8b93-4068dfd5cc21",
        "outputId": "3e9c90cf-c8f5-48a3-f6e2-372c83cdaa8f"
      },
      "outputs": [
        {
          "output_type": "stream",
          "name": "stdout",
          "text": [
            "Affichage liste unique : [1, 2, 5, 8, 6, 9]\n"
          ]
        }
      ],
      "source": [
        "# approche from scratch\n",
        "l = [1,2,5,8,6,2,5,9,1,8,8]\n",
        "l_unique = list()\n",
        "for numbers in l:\n",
        "    if numbers not in l_unique:\n",
        "        l_unique.append(numbers)\n",
        "\n",
        "print(f\"Affichage liste unique : {l_unique}\")"
      ]
    },
    {
      "cell_type": "markdown",
      "id": "459f6451-7190-46b1-bfde-bfc92bf1ee81",
      "metadata": {
        "id": "459f6451-7190-46b1-bfde-bfc92bf1ee81"
      },
      "source": [
        "### Exercice 8\n",
        "Ecrire un programme qui recherche un nombre saisi par l’utilisateur dans une liste. Votre programme doit retourner le nombre d’occurrences ainsi que les indices (position) de chaque occurrence."
      ]
    },
    {
      "cell_type": "code",
      "execution_count": null,
      "id": "2368ba26-579d-4ef1-a3c1-8573a811692b",
      "metadata": {
        "colab": {
          "base_uri": "https://localhost:8080/"
        },
        "id": "2368ba26-579d-4ef1-a3c1-8573a811692b",
        "outputId": "a2e6674a-7f98-49cf-99d9-13ebfc65d608"
      },
      "outputs": [
        {
          "output_type": "stream",
          "name": "stdout",
          "text": [
            "Occurences : 3\n",
            "Position : [3, 9, 10]\n"
          ]
        }
      ],
      "source": [
        "l = [1,2,5,8,6,2,5,9,1,8,8]\n",
        "search = 8\n",
        "count = 0\n",
        "index = list()\n",
        "i = -1\n",
        "for numbers in l:\n",
        "    i+=1\n",
        "    if numbers == search:\n",
        "        index.append(i)\n",
        "        count+=1\n",
        "\n",
        "print(f\"Occurences : {count}\\nPosition : {index}\")"
      ]
    },
    {
      "cell_type": "code",
      "execution_count": null,
      "id": "bffc0d2f-2476-4433-ade5-dee69fa0ce34",
      "metadata": {
        "id": "bffc0d2f-2476-4433-ade5-dee69fa0ce34"
      },
      "outputs": [],
      "source": [
        "# Passage à une fonction\n",
        "def search_list(l:list, x):\n",
        "    count = 0\n",
        "    index = list()\n",
        "    i = -1\n",
        "    for numbers in l:\n",
        "        i+=1\n",
        "        if numbers == x:\n",
        "            index.append(i)\n",
        "            count+=1\n",
        "    return count, index"
      ]
    },
    {
      "cell_type": "code",
      "execution_count": null,
      "id": "43ed1de9-e4e9-41bb-9b58-596ece381f4f",
      "metadata": {
        "colab": {
          "base_uri": "https://localhost:8080/"
        },
        "id": "43ed1de9-e4e9-41bb-9b58-596ece381f4f",
        "outputId": "fc4323b1-6480-44ed-cdbf-7097fde7c254"
      },
      "outputs": [
        {
          "output_type": "stream",
          "name": "stdout",
          "text": [
            "Le chiffre 2 apparaît 3 fois dans la liste\n",
            "Test index 1 passé...\n",
            "Test index 2 passé...\n",
            "Test index 3 passé...\n"
          ]
        }
      ],
      "source": [
        "# Tester la function\n",
        "my_input = 8\n",
        "count, index = search_list(l, my_input)\n",
        "print(f\"Le chiffre 2 apparaît {count} fois dans la liste\")\n",
        "i = 1\n",
        "for j in index:\n",
        "    if l[j] == my_input:\n",
        "        print(f\"Test index {i} passé...\")\n",
        "        i+=1\n",
        "    else:\n",
        "        print(\"Élément non trouvé\")"
      ]
    },
    {
      "cell_type": "markdown",
      "id": "51111580-d13a-497f-92f0-ebb4b164f50e",
      "metadata": {
        "id": "51111580-d13a-497f-92f0-ebb4b164f50e"
      },
      "source": []
    },
    {
      "cell_type": "code",
      "execution_count": null,
      "id": "891cae14-9e1f-4d76-9023-9cd4a933fe22",
      "metadata": {
        "id": "891cae14-9e1f-4d76-9023-9cd4a933fe22"
      },
      "outputs": [],
      "source": []
    }
  ],
  "metadata": {
    "kernelspec": {
      "display_name": "Python 3 (ipykernel)",
      "language": "python",
      "name": "python3"
    },
    "language_info": {
      "codemirror_mode": {
        "name": "ipython",
        "version": 3
      },
      "file_extension": ".py",
      "mimetype": "text/x-python",
      "name": "python",
      "nbconvert_exporter": "python",
      "pygments_lexer": "ipython3",
      "version": "3.12.1"
    },
    "colab": {
      "provenance": [],
      "collapsed_sections": [
        "d0f9030f-6ff4-4bfb-96d4-1a841774dfa0"
      ],
      "include_colab_link": true
    }
  },
  "nbformat": 4,
  "nbformat_minor": 5
}